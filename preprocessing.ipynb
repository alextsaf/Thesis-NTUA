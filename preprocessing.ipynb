{
 "cells": [
  {
   "cell_type": "code",
   "execution_count": 1,
   "metadata": {},
   "outputs": [],
   "source": [
    "import pandas as pd\n",
    "import numpy as np\n",
    "import matplotlib.pyplot as plt\n",
    "import os\n",
    "import glob\n",
    "from datetime import datetime, timedelta"
   ]
  },
  {
   "cell_type": "code",
   "execution_count": 30,
   "metadata": {},
   "outputs": [],
   "source": [
    "# function to add the seconds of the row to the timestamp of the row \n",
    "\n",
    "def addSecondsToTimestamp(timestamp, secondsToAdd):\n",
    "    return timestamp + timedelta(seconds=secondsToAdd)\n",
    "\n",
    "\n",
    "def formDataset(path):\n",
    "    convert_to_timestamp = lambda x: datetime.fromtimestamp(int(x))\n",
    "\n",
    "    dataset = pd.read_csv(path, parse_dates=['SubmitTime'], date_parser=convert_to_timestamp)\n",
    "\n",
    "    dataset['StopTime'] = dataset[['SubmitTime', 'RunTime']].apply(lambda x: addSecondsToTimestamp(*x), axis=1)\n",
    "\n",
    "\n",
    "    dataset.drop(dataset.select_dtypes(['object']), inplace=True, axis=1)\n",
    "    dataset = dataset[dataset[\"RunTime\"] > 0]\n",
    "    dataset = dataset[dataset[\"NProc\"] > 0]\n",
    "    dataset = dataset[dataset[\"UsedCPUTime\"] > 0]\n",
    "    dataset = dataset[dataset[\"UsedMemory\"] > 0]\n",
    "\n",
    "    # keep only needed columns\n",
    "    dataset = dataset[['SubmitTime', 'RunTime', 'NProc', 'UsedCPUTime', 'UsedMemory', 'StopTime']]\n",
    "    try:\n",
    "        cancelled_jobs = dataset[dataset[\"ReqTime\"] < dataset[\"RunTime\"]]\n",
    "\n",
    "        #drop columns with 'ReqTime' == -1\n",
    "        cancelled_jobs.drop(cancelled_jobs[\"ReqTime\"] == -1, inplace=True)\n",
    "        cancelled_jobs.to_csv(f\"./datasets/dropped/dropped-{path.split('/')[-1]}\", index=False)\n",
    "    except:\n",
    "        pass\n",
    "\n",
    "\n",
    "\n",
    "    dataset.to_csv( f\"./datasets/formed/formed-{path.split('/')[-1]}\", index=False)"
   ]
  },
  {
   "cell_type": "code",
   "execution_count": 31,
   "metadata": {},
   "outputs": [
    {
     "name": "stdout",
     "output_type": "stream",
     "text": [
      "./datasets/raw/grid5000.csv\n",
      "./datasets/raw/das2.csv\n"
     ]
    },
    {
     "name": "stderr",
     "output_type": "stream",
     "text": [
      "/var/folders/rz/x38ry1m901jcjct47ydtrgph0000gn/T/ipykernel_40359/3365228901.py:10: DtypeWarning: Columns (19) have mixed types. Specify dtype option on import or set low_memory=False.\n",
      "  dataset = pd.read_csv(path, parse_dates=['SubmitTime'], date_parser=convert_to_timestamp)\n"
     ]
    },
    {
     "name": "stdout",
     "output_type": "stream",
     "text": [
      "./datasets/raw/rnd.csv\n",
      "./datasets/raw/nordugrid.csv\n",
      "./datasets/raw/auvergrid.csv\n",
      "./datasets/raw/fastStorage.csv\n",
      "./datasets/raw/sharcnet.csv\n"
     ]
    }
   ],
   "source": [
    "for csv in glob.glob(pathname=\"./datasets/raw/*.csv\"):\n",
    "    print(csv)\n",
    "    if csv in ['./datasets/raw/fastStorage.csv', './datasets/raw/rnd.csv']:\n",
    "        continue\n",
    "    formDataset(csv)"
   ]
  }
 ],
 "metadata": {
  "kernelspec": {
   "display_name": "base",
   "language": "python",
   "name": "python3"
  },
  "language_info": {
   "codemirror_mode": {
    "name": "ipython",
    "version": 3
   },
   "file_extension": ".py",
   "mimetype": "text/x-python",
   "name": "python",
   "nbconvert_exporter": "python",
   "pygments_lexer": "ipython3",
   "version": "3.9.13"
  },
  "orig_nbformat": 4
 },
 "nbformat": 4,
 "nbformat_minor": 2
}
