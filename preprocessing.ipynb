{
 "cells": [
  {
   "cell_type": "code",
   "execution_count": 3,
   "metadata": {},
   "outputs": [],
   "source": [
    "import pandas as pd\n",
    "import numpy as np\n",
    "import matplotlib.pyplot as plt\n",
    "import os\n",
    "import glob\n",
    "from datetime import datetime, timedelta"
   ]
  },
  {
   "cell_type": "code",
   "execution_count": 11,
   "metadata": {},
   "outputs": [],
   "source": [
    "# function to add the seconds of the row to the timestamp of the row \n",
    "\n",
    "def addSecondsToTimestamp(timestamp, runtime, waittime):\n",
    "    return timestamp + timedelta(seconds=runtime) + timedelta(seconds=waittime)\n",
    "\n",
    "\n",
    "def formDataset(path):\n",
    "    convert_to_timestamp = lambda x: datetime.fromtimestamp(int(x))\n",
    "\n",
    "    dataset = pd.read_csv(path, parse_dates=['SubmitTime'], date_parser=convert_to_timestamp)\n",
    "\n",
    "    dataset.drop(dataset.select_dtypes(['object']), inplace=True, axis=1)\n",
    "    print(dataset[['SubmitTime', 'RunTime', 'NProc', 'UsedCPUTime', 'UsedMemory', 'StopTime']].describe().to_latex())\n",
    "    dataset = dataset[dataset[\"RunTime\"] > 0]\n",
    "    dataset = dataset[dataset[\"NProc\"] > 0]\n",
    "    dataset = dataset[dataset[\"UsedCPUTime\"] > 0]\n",
    "    dataset = dataset[dataset[\"UsedMemory\"] > 0]\n",
    "\n",
    "    dataset['StopTime'] = dataset[['SubmitTime', 'RunTime', 'WaitTime']].apply(lambda x: addSecondsToTimestamp(*x), axis=1)\n",
    "    \n",
    "    # keep only needed columns\n",
    "    dataset = dataset[['SubmitTime', 'RunTime', 'NProc', 'UsedCPUTime', 'UsedMemory', 'StopTime']]\n",
    "    try:\n",
    "        cancelled_jobs = dataset[dataset[\"ReqTime\"] < dataset[\"RunTime\"]]\n",
    "\n",
    "        #drop columns with 'ReqTime' == -1\n",
    "        cancelled_jobs.drop(cancelled_jobs[\"ReqTime\"] == -1, inplace=True)\n",
    "        cancelled_jobs.to_csv(f\"./datasets/dropped/dropped-{path.split('/')[-1]}\", index=False)\n",
    "    except:\n",
    "        pass\n",
    "\n",
    "\n",
    "\n",
    "    dataset.to_csv( f\"./datasets/formed/formed-{path.split('/')[-1]}\", index=False)"
   ]
  },
  {
   "cell_type": "code",
   "execution_count": 12,
   "metadata": {},
   "outputs": [
    {
     "name": "stdout",
     "output_type": "stream",
     "text": [
      "./datasets/raw/grid5000.csv\n"
     ]
    },
    {
     "name": "stderr",
     "output_type": "stream",
     "text": [
      "/var/folders/rz/x38ry1m901jcjct47ydtrgph0000gn/T/ipykernel_43206/583206982.py:16: FutureWarning: In future versions `DataFrame.to_latex` is expected to utilise the base implementation of `Styler.to_latex` for formatting and rendering. The arguments signature may therefore change. It is recommended instead to use `DataFrame.style.to_latex` which also contains additional functionality.\n",
      "  print(dataset[['SubmitTime', 'RunTime', 'NProc', 'UsedCPUTime', 'UsedMemory', 'StopTime']].describe().to_latex())\n"
     ]
    },
    {
     "name": "stdout",
     "output_type": "stream",
     "text": [
      "\\begin{tabular}{lrrrr}\n",
      "\\toprule\n",
      "{} &       RunTime &         NProc &  UsedCPUTime &  UsedMemory \\\\\n",
      "\\midrule\n",
      "count &  1.020195e+06 &  1.020195e+06 &    1020195.0 &   1020195.0 \\\\\n",
      "mean  &  2.462630e+03 &  5.815424e+00 &         -1.0 &        -1.0 \\\\\n",
      "std   &  2.409142e+04 &  2.105162e+01 &          0.0 &         0.0 \\\\\n",
      "min   & -1.000000e+00 &  1.000000e+00 &         -1.0 &        -1.0 \\\\\n",
      "25\\%   &  1.000000e+00 &  1.000000e+00 &         -1.0 &        -1.0 \\\\\n",
      "50\\%   &  6.300000e+01 &  1.000000e+00 &         -1.0 &        -1.0 \\\\\n",
      "75\\%   &  4.980000e+02 &  2.000000e+00 &         -1.0 &        -1.0 \\\\\n",
      "max   &  3.015459e+06 &  3.420000e+02 &         -1.0 &        -1.0 \\\\\n",
      "\\bottomrule\n",
      "\\end{tabular}\n",
      "\n",
      "./datasets/raw/das2.csv\n"
     ]
    },
    {
     "name": "stderr",
     "output_type": "stream",
     "text": [
      "/var/folders/rz/x38ry1m901jcjct47ydtrgph0000gn/T/ipykernel_43206/583206982.py:10: DtypeWarning: Columns (19) have mixed types. Specify dtype option on import or set low_memory=False.\n",
      "  dataset = pd.read_csv(path, parse_dates=['SubmitTime'], date_parser=convert_to_timestamp)\n",
      "/var/folders/rz/x38ry1m901jcjct47ydtrgph0000gn/T/ipykernel_43206/583206982.py:16: FutureWarning: In future versions `DataFrame.to_latex` is expected to utilise the base implementation of `Styler.to_latex` for formatting and rendering. The arguments signature may therefore change. It is recommended instead to use `DataFrame.style.to_latex` which also contains additional functionality.\n",
      "  print(dataset[['SubmitTime', 'RunTime', 'NProc', 'UsedCPUTime', 'UsedMemory', 'StopTime']].describe().to_latex())\n"
     ]
    },
    {
     "name": "stdout",
     "output_type": "stream",
     "text": [
      "\\begin{tabular}{lrrrr}\n",
      "\\toprule\n",
      "{} &       RunTime &         NProc &   UsedCPUTime &    UsedMemory \\\\\n",
      "\\midrule\n",
      "count &  1.124772e+06 &  1.124772e+06 &  1.124772e+06 &  1.124772e+06 \\\\\n",
      "mean  &  3.697174e+02 &  4.306248e+00 &  3.405256e+01 &  4.589586e+04 \\\\\n",
      "std   &  3.938101e+03 &  6.361762e+00 &  3.083070e+02 &  3.464246e+05 \\\\\n",
      "min   &  0.000000e+00 &  1.000000e+00 &  0.000000e+00 &  0.000000e+00 \\\\\n",
      "25\\%   &  1.500000e+01 &  1.000000e+00 &  1.000000e-02 &  4.276224e+03 \\\\\n",
      "50\\%   &  4.700000e+01 &  2.000000e+00 &  3.000000e-02 &  6.348800e+03 \\\\\n",
      "75\\%   &  1.460000e+02 &  4.000000e+00 &  8.000000e-02 &  1.044480e+04 \\\\\n",
      "max   &  5.483630e+05 &  1.280000e+02 &  5.107015e+04 &  4.294951e+06 \\\\\n",
      "\\bottomrule\n",
      "\\end{tabular}\n",
      "\n",
      "./datasets/raw/rnd.csv\n",
      "./datasets/raw/nordugrid.csv\n"
     ]
    },
    {
     "name": "stderr",
     "output_type": "stream",
     "text": [
      "/var/folders/rz/x38ry1m901jcjct47ydtrgph0000gn/T/ipykernel_43206/583206982.py:16: FutureWarning: In future versions `DataFrame.to_latex` is expected to utilise the base implementation of `Styler.to_latex` for formatting and rendering. The arguments signature may therefore change. It is recommended instead to use `DataFrame.style.to_latex` which also contains additional functionality.\n",
      "  print(dataset[['SubmitTime', 'RunTime', 'NProc', 'UsedCPUTime', 'UsedMemory', 'StopTime']].describe().to_latex())\n"
     ]
    },
    {
     "name": "stdout",
     "output_type": "stream",
     "text": [
      "\\begin{tabular}{lrrrr}\n",
      "\\toprule\n",
      "{} &       RunTime &          NProc &  UsedCPUTime &    UsedMemory \\\\\n",
      "\\midrule\n",
      "count &  7.813700e+05 &  781370.000000 &     781370.0 &  7.813700e+05 \\\\\n",
      "mean  &  8.927391e+04 &       1.073261 &         -1.0 &  1.998884e+05 \\\\\n",
      "std   &  2.842997e+05 &       1.273685 &          0.0 &  3.065573e+05 \\\\\n",
      "min   & -6.471000e+03 &       1.000000 &         -1.0 & -1.000000e+00 \\\\\n",
      "25\\%   &  1.243000e+03 &       1.000000 &         -1.0 & -1.000000e+00 \\\\\n",
      "50\\%   &  1.207600e+04 &       1.000000 &         -1.0 & -1.000000e+00 \\\\\n",
      "75\\%   &  7.200000e+04 &       1.000000 &         -1.0 &  5.242880e+05 \\\\\n",
      "max   &  1.807190e+07 &      64.000000 &         -1.0 &  2.147484e+06 \\\\\n",
      "\\bottomrule\n",
      "\\end{tabular}\n",
      "\n",
      "./datasets/raw/auvergrid.csv\n"
     ]
    },
    {
     "name": "stderr",
     "output_type": "stream",
     "text": [
      "/var/folders/rz/x38ry1m901jcjct47ydtrgph0000gn/T/ipykernel_43206/583206982.py:16: FutureWarning: In future versions `DataFrame.to_latex` is expected to utilise the base implementation of `Styler.to_latex` for formatting and rendering. The arguments signature may therefore change. It is recommended instead to use `DataFrame.style.to_latex` which also contains additional functionality.\n",
      "  print(dataset[['SubmitTime', 'RunTime', 'NProc', 'UsedCPUTime', 'UsedMemory', 'StopTime']].describe().to_latex())\n"
     ]
    },
    {
     "name": "stdout",
     "output_type": "stream",
     "text": [
      "\\begin{tabular}{lrrrr}\n",
      "\\toprule\n",
      "{} &       RunTime &          NProc &    UsedCPUTime &    UsedMemory \\\\\n",
      "\\midrule\n",
      "count &  4.041760e+05 &  404176.000000 &  404176.000000 &  4.041760e+05 \\\\\n",
      "mean  &  2.166128e+04 &       0.860049 &   18882.036120 &  2.542120e+05 \\\\\n",
      "std   &  3.881557e+04 &       0.346937 &   33011.668406 &  3.342076e+05 \\\\\n",
      "min   & -1.000000e+00 &       0.000000 &      -1.000000 & -1.000000e+00 \\\\\n",
      "25\\%   &  1.900000e+01 &       1.000000 &       3.000000 &  0.000000e+00 \\\\\n",
      "50\\%   &  6.300000e+02 &       1.000000 &      21.000000 &  7.928000e+04 \\\\\n",
      "75\\%   &  3.367800e+04 &       1.000000 &   30484.750000 &  5.750920e+05 \\\\\n",
      "max   &  1.575814e+06 &       1.000000 &  259316.000000 &  3.667652e+06 \\\\\n",
      "\\bottomrule\n",
      "\\end{tabular}\n",
      "\n",
      "./datasets/raw/fastStorage.csv\n",
      "./datasets/raw/sharcnet.csv\n"
     ]
    },
    {
     "name": "stderr",
     "output_type": "stream",
     "text": [
      "/var/folders/rz/x38ry1m901jcjct47ydtrgph0000gn/T/ipykernel_43206/583206982.py:16: FutureWarning: In future versions `DataFrame.to_latex` is expected to utilise the base implementation of `Styler.to_latex` for formatting and rendering. The arguments signature may therefore change. It is recommended instead to use `DataFrame.style.to_latex` which also contains additional functionality.\n",
      "  print(dataset[['SubmitTime', 'RunTime', 'NProc', 'UsedCPUTime', 'UsedMemory', 'StopTime']].describe().to_latex())\n"
     ]
    },
    {
     "name": "stdout",
     "output_type": "stream",
     "text": [
      "\\begin{tabular}{lrrrr}\n",
      "\\toprule\n",
      "{} &       RunTime &         NProc &   UsedCPUTime &    UsedMemory \\\\\n",
      "\\midrule\n",
      "count &  1.195242e+06 &  1.195242e+06 &  1.195242e+06 &  1.195242e+06 \\\\\n",
      "mean  &  3.165430e+04 &  2.993179e+00 &  2.075724e+04 &  8.049621e+04 \\\\\n",
      "std   &  1.165614e+05 &  2.455266e+01 &  5.154719e+06 &  4.639791e+05 \\\\\n",
      "min   & -1.000000e+00 & -1.000000e+00 & -2.124628e+09 & -1.000000e+00 \\\\\n",
      "25\\%   &  9.900000e+01 &  1.000000e+00 &  1.900000e-01 &  4.096000e+03 \\\\\n",
      "50\\%   &  2.789000e+03 &  1.000000e+00 &  2.114500e+02 &  7.168000e+03 \\\\\n",
      "75\\%   &  2.191000e+04 &  1.000000e+00 &  9.718000e+03 &  2.355200e+04 \\\\\n",
      "max   &  1.390840e+07 &  3.000000e+03 &  2.087029e+09 &  3.202150e+07 \\\\\n",
      "\\bottomrule\n",
      "\\end{tabular}\n",
      "\n"
     ]
    }
   ],
   "source": [
    "for csv in glob.glob(pathname=\"./datasets/raw/*.csv\"):\n",
    "    print(csv)\n",
    "    if csv in ['./datasets/raw/fastStorage.csv', './datasets/raw/rnd.csv']:\n",
    "        continue\n",
    "    formDataset(csv)"
   ]
  },
  {
   "cell_type": "code",
   "execution_count": null,
   "metadata": {},
   "outputs": [],
   "source": []
  }
 ],
 "metadata": {
  "kernelspec": {
   "display_name": "base",
   "language": "python",
   "name": "python3"
  },
  "language_info": {
   "codemirror_mode": {
    "name": "ipython",
    "version": 3
   },
   "file_extension": ".py",
   "mimetype": "text/x-python",
   "name": "python",
   "nbconvert_exporter": "python",
   "pygments_lexer": "ipython3",
   "version": "3.9.13"
  },
  "orig_nbformat": 4
 },
 "nbformat": 4,
 "nbformat_minor": 2
}
