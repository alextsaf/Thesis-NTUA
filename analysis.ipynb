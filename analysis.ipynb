{
 "cells": [
  {
   "cell_type": "code",
   "execution_count": 142,
   "metadata": {},
   "outputs": [],
   "source": [
    "import pandas as pd\n",
    "import numpy as np\n",
    "import matplotlib.pyplot as plt\n",
    "import os\n",
    "import glob\n",
    "from datetime import datetime, timedelta"
   ]
  },
  {
   "cell_type": "code",
   "execution_count": 121,
   "metadata": {},
   "outputs": [],
   "source": [
    "def analyzeDataset(path, timeColumn = 'SubmitTime', delimiter = ','):\n",
    "\n",
    "    datasetname = path.split('/')[-1].split('.')[0]\n",
    "\n",
    "    convert_to_timestamp = lambda x: datetime.fromtimestamp(int(x))\n",
    "\n",
    "    # Read the dataset into a dataframe and set the timestamp as the index.\n",
    "    dataset = pd.read_csv(path, parse_dates=[timeColumn], date_parser=convert_to_timestamp, delimiter=delimiter)\n",
    "\n",
    "    # Print the number of rows and columns in the dataframe.\n",
    "    print(\"Dataset Shape:\")\n",
    "    print(dataset.shape)\n",
    "\n",
    "    # Print the number of missing values in dataframe.\n",
    "    print(\"Number of missing values:\")\n",
    "    print(dataset.isnull().sum().sum())\n",
    "\n",
    "    #Print the names of the columns in the dataframe.\n",
    "    print(\"Column Names:\")\n",
    "    print(dataset.columns)\n",
    "\n",
    "    # tex row\n",
    "    jobsInMillions = round(dataset.shape[0] / 1000000, 2)\n",
    "    submitTimesInYears = round((dataset[timeColumn].max() - dataset[timeColumn].min()).days / 365, 2)\n",
    "    print(\"Latex Row:\")\n",
    "    print(f\" \\hline \\n {datasetname} & {jobsInMillions} M & {submitTimesInYears} yrs & \\\\\\\\\")\n",
    "\n",
    "    "
   ]
  },
  {
   "cell_type": "code",
   "execution_count": 122,
   "metadata": {},
   "outputs": [
    {
     "name": "stdout",
     "output_type": "stream",
     "text": [
      "Dataset Shape:\n",
      "(1124772, 29)\n",
      "Number of missing values:\n",
      "0\n",
      "Column Names:\n",
      "Index(['JobID', 'SubmitTime', 'WaitTime', 'RunTime', 'NProc', 'UsedCPUTime',\n",
      "       'UsedMemory', 'ReqNProcs', 'ReqTime', 'ReqMemory', 'Status', 'UserID',\n",
      "       'GroupID', 'ExecutableID', 'QueueID', 'PartitionID', 'OrigSiteID',\n",
      "       'LastRunSiteID', 'JobStructure', 'JobStructureParams', 'UsedNetwork',\n",
      "       'UsedLocalDiskSpace', 'UsedResources', 'ReqPlatform', 'ReqNetwork',\n",
      "       'ReqLocalDiskSpace', 'ReqResources', 'VOID', 'ProjectID'],\n",
      "      dtype='object')\n",
      "Latex Row:\n",
      " \\hline \n",
      " das2 & 1.12 M & 1.8 yrs & \\\\\n"
     ]
    }
   ],
   "source": [
    "analyzeDataset('./datasets/raw/das2.csv')\n"
   ]
  },
  {
   "cell_type": "code",
   "execution_count": 123,
   "metadata": {},
   "outputs": [
    {
     "name": "stdout",
     "output_type": "stream",
     "text": [
      "Dataset Shape:\n",
      "(1020195, 29)\n",
      "Number of missing values:\n",
      "0\n",
      "Column Names:\n",
      "Index(['JobID', 'SubmitTime', 'WaitTime', 'RunTime', 'NProc', 'UsedCPUTime',\n",
      "       'UsedMemory', 'ReqNProcs', 'ReqTime', 'ReqMemory', 'Status', 'UserID',\n",
      "       'GroupID', 'ExecutableID', 'QueueID', 'PartitionID', 'OrigSiteID',\n",
      "       'LastRunSiteID', 'JobStructure', 'JobStructureParams', 'UsedNetwork',\n",
      "       'UsedLocalDiskSpace', 'UsedResources', 'ReqPlatform', 'ReqNetwork',\n",
      "       'ReqLocalDiskSpace', 'ReqResources', 'VOID', 'ProjectID'],\n",
      "      dtype='object')\n",
      "Latex Row:\n",
      " \\hline \n",
      " grid5000 & 1.02 M & 2.52 yrs & \\\\\n"
     ]
    }
   ],
   "source": [
    "analyzeDataset('./datasets/raw/grid5000.csv')"
   ]
  },
  {
   "cell_type": "code",
   "execution_count": 22,
   "metadata": {},
   "outputs": [
    {
     "name": "stdout",
     "output_type": "stream",
     "text": [
      "Dataset Shape:\n",
      "(781370, 29)\n",
      "Number of missing values:\n",
      "0\n",
      "Column Names:\n",
      "Index(['JobID', 'SubmitTime', 'WaitTime', 'RunTime', 'NProc', 'UsedCPUTime',\n",
      "       'UsedMemory', 'ReqNProcs', 'ReqTime', 'ReqMemory', 'Status', 'UserID',\n",
      "       'GroupID', 'ExecutableID', 'QueueID', 'PartitionID', 'OrigSiteID',\n",
      "       'LastRunSiteID', 'JobStructure', 'JobStructureParams', 'UsedNetwork',\n",
      "       'UsedLocalDiskSpace', 'UsedResources', 'ReqPlatform', 'ReqNetwork',\n",
      "       'ReqLocalDiskSpace', 'ReqResources', 'VOID', 'ProjectID'],\n",
      "      dtype='object')\n",
      "Latex Row:\n",
      " \\hline \n",
      " nordugrid & 0.78 M & 3.15 yrs & \\\\\n"
     ]
    }
   ],
   "source": [
    "analyzeDataset('./datasets/raw/nordugrid.csv')"
   ]
  },
  {
   "cell_type": "code",
   "execution_count": 23,
   "metadata": {},
   "outputs": [
    {
     "name": "stdout",
     "output_type": "stream",
     "text": [
      "Dataset Shape:\n",
      "(404176, 29)\n",
      "Number of missing values:\n",
      "0\n",
      "Column Names:\n",
      "Index(['JobID', 'SubmitTime', 'WaitTime', 'RunTime', 'NProc', 'UsedCPUTime',\n",
      "       'UsedMemory', 'ReqNProcs', 'ReqTime', 'ReqMemory', 'Status', 'UserID',\n",
      "       'GroupID', 'ExecutableID', 'QueueID', 'PartitionID', 'OrigSiteID',\n",
      "       'LastRunSiteID', 'JobStructure', 'JobStructureParams', 'UsedNetwork',\n",
      "       'UsedLocalDiskSpace', 'UsedResources', 'ReqPlatform', 'ReqNetwork',\n",
      "       'ReqLocalDiskSpace', 'ReqResources', 'VOID', 'ProjectID'],\n",
      "      dtype='object')\n",
      "Latex Row:\n",
      " \\hline \n",
      " auvergrid & 0.4 M & 1.0 yrs & \\\\\n"
     ]
    }
   ],
   "source": [
    "analyzeDataset('./datasets/raw/auvergrid.csv')"
   ]
  },
  {
   "cell_type": "code",
   "execution_count": 24,
   "metadata": {},
   "outputs": [
    {
     "name": "stdout",
     "output_type": "stream",
     "text": [
      "Dataset Shape:\n",
      "(1195242, 29)\n",
      "Number of missing values:\n",
      "0\n",
      "Column Names:\n",
      "Index(['JobID', 'SubmitTime', 'WaitTime', 'RunTime', 'NProc', 'UsedCPUTime',\n",
      "       'UsedMemory', 'ReqNProcs', 'ReqTime', 'ReqMemory', 'Status', 'UserID',\n",
      "       'GroupID', 'ExecutableID', 'QueueID', 'PartitionID', 'OrigSiteID',\n",
      "       'LastRunSiteID', 'JobStructure', 'JobStructureParams', 'UsedNetwork',\n",
      "       'UsedLocalDiskSpace', 'UsedResources', 'ReqPlatform', 'ReqNetwork',\n",
      "       'ReqLocalDiskSpace', 'ReqResources', 'VOID', 'ProjectID'],\n",
      "      dtype='object')\n",
      "Latex Row:\n",
      " \\hline \n",
      " sharcnet & 1.2 M & 1.07 yrs & \\\\\n"
     ]
    }
   ],
   "source": [
    "analyzeDataset('./datasets/raw/sharcnet.csv')"
   ]
  },
  {
   "cell_type": "code",
   "execution_count": 25,
   "metadata": {},
   "outputs": [
    {
     "name": "stdout",
     "output_type": "stream",
     "text": [
      "Dataset Shape:\n",
      "(188041, 29)\n",
      "Number of missing values:\n",
      "0\n",
      "Column Names:\n",
      "Index(['JobID', 'SubmitTime', 'WaitTime', 'RunTime', 'NProc', 'UsedCPUTime',\n",
      "       'UsedMemory', 'ReqNProcs', 'ReqTime', 'ReqMemory', 'Status', 'UserID',\n",
      "       'GroupID', 'ExecutableID', 'QueueID', 'PartitionID', 'OrigSiteID',\n",
      "       'LastRunSiteID', 'JobStructure', 'JobStructureParams', 'UsedNetwork',\n",
      "       'UsedLocalDiskSpace', 'UsedResources', 'ReqPlatform', 'ReqNetwork',\n",
      "       'ReqLocalDiskSpace', 'ReqResources', 'VOID', 'ProjectID'],\n",
      "      dtype='object')\n",
      "Latex Row:\n",
      " \\hline \n",
      " lcg & 0.19 M & 0.03 yrs & \\\\\n"
     ]
    }
   ],
   "source": [
    "analyzeDataset('./datasets/raw/lcg.csv')"
   ]
  },
  {
   "cell_type": "code",
   "execution_count": 26,
   "metadata": {},
   "outputs": [],
   "source": [
    "# merge 500 csv's into one\n",
    "def mergeCSVs(path):\n",
    "    csvList = []\n",
    "    for csv in glob.glob(f\"./datasets/raw/{path}/*/*.csv\"):\n",
    "        dataframe = pd.read_csv(csv, delimiter=';\\t')\n",
    "        csvList.append(dataframe)\n",
    "    df = pd.concat(csvList)\n",
    "    df.rename(columns={'Timestamp [ms]': 'SubmitTime'}, inplace=True)\n",
    "    df.to_csv( f\"./datasets/{path}.csv\", index=False)"
   ]
  },
  {
   "cell_type": "code",
   "execution_count": 27,
   "metadata": {},
   "outputs": [],
   "source": [
    "# import warnings\n",
    "# warnings.filterwarnings('ignore')\n",
    "# mergeCSVs('fastStorage')"
   ]
  },
  {
   "cell_type": "code",
   "execution_count": 28,
   "metadata": {},
   "outputs": [
    {
     "name": "stdout",
     "output_type": "stream",
     "text": [
      "Dataset Shape:\n",
      "(11221800, 11)\n",
      "Number of missing values:\n",
      "0\n",
      "Column Names:\n",
      "Index(['SubmitTime', 'CPU cores', 'CPU capacity provisioned [MHZ]',\n",
      "       'CPU usage [MHZ]', 'CPU usage [%]', 'Memory capacity provisioned [KB]',\n",
      "       'Memory usage [KB]', 'Disk read throughput [KB/s]',\n",
      "       'Disk write throughput [KB/s]', 'Network received throughput [KB/s]',\n",
      "       'Network transmitted throughput [KB/s]'],\n",
      "      dtype='object')\n",
      "Latex Row:\n",
      " \\hline \n",
      " fastStorage & 11.22 M & 0.08 yrs & \\\\\n"
     ]
    }
   ],
   "source": [
    "analyzeDataset('./datasets/raw/fastStorage.csv')"
   ]
  },
  {
   "cell_type": "code",
   "execution_count": 29,
   "metadata": {},
   "outputs": [],
   "source": [
    "# import warnings\n",
    "# warnings.filterwarnings('ignore')\n",
    "# mergeCSVs('rnd')"
   ]
  },
  {
   "cell_type": "code",
   "execution_count": 30,
   "metadata": {},
   "outputs": [
    {
     "name": "stdout",
     "output_type": "stream",
     "text": [
      "Dataset Shape:\n",
      "(12496728, 11)\n",
      "Number of missing values:\n",
      "0\n",
      "Column Names:\n",
      "Index(['SubmitTime', 'CPU cores', 'CPU capacity provisioned [MHZ]',\n",
      "       'CPU usage [MHZ]', 'CPU usage [%]', 'Memory capacity provisioned [KB]',\n",
      "       'Memory usage [KB]', 'Disk read throughput [KB/s]',\n",
      "       'Disk write throughput [KB/s]', 'Network received throughput [KB/s]',\n",
      "       'Network transmitted throughput [KB/s]'],\n",
      "      dtype='object')\n",
      "Latex Row:\n",
      " \\hline \n",
      " rnd & 12.5 M & 0.25 yrs & \\\\\n"
     ]
    }
   ],
   "source": [
    "analyzeDataset('./datasets/raw/rnd.csv')"
   ]
  }
 ],
 "metadata": {
  "kernelspec": {
   "display_name": "Python 3",
   "language": "python",
   "name": "python3"
  },
  "language_info": {
   "codemirror_mode": {
    "name": "ipython",
    "version": 3
   },
   "file_extension": ".py",
   "mimetype": "text/x-python",
   "name": "python",
   "nbconvert_exporter": "python",
   "pygments_lexer": "ipython3",
   "version": "3.9.13"
  },
  "orig_nbformat": 4
 },
 "nbformat": 4,
 "nbformat_minor": 2
}
